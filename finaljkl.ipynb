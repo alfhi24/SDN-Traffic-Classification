{
 "cells": [
  {
   "cell_type": "code",
   "execution_count": 1,
   "metadata": {},
   "outputs": [],
   "source": [
    "import pandas as pd\n",
    "import numpy as np\n",
    "import matplotlib.pyplot as plt"
   ]
  },
  {
   "cell_type": "code",
   "execution_count": 2,
   "metadata": {},
   "outputs": [
    {
     "data": {
      "text/html": [
       "<div>\n",
       "<style scoped>\n",
       "    .dataframe tbody tr th:only-of-type {\n",
       "        vertical-align: middle;\n",
       "    }\n",
       "\n",
       "    .dataframe tbody tr th {\n",
       "        vertical-align: top;\n",
       "    }\n",
       "\n",
       "    .dataframe thead th {\n",
       "        text-align: right;\n",
       "    }\n",
       "</style>\n",
       "<table border=\"1\" class=\"dataframe\">\n",
       "  <thead>\n",
       "    <tr style=\"text-align: right;\">\n",
       "      <th></th>\n",
       "      <th>Unnamed: 0</th>\n",
       "      <th>Flow.ID</th>\n",
       "      <th>Source.IP</th>\n",
       "      <th>Source.Port</th>\n",
       "      <th>Destination.IP</th>\n",
       "      <th>Destination.Port</th>\n",
       "      <th>Protocol</th>\n",
       "      <th>Timestamp</th>\n",
       "      <th>Flow.Duration</th>\n",
       "      <th>Total.Fwd.Packets</th>\n",
       "      <th>...</th>\n",
       "      <th>Active.Std</th>\n",
       "      <th>Active.Max</th>\n",
       "      <th>Active.Min</th>\n",
       "      <th>Idle.Mean</th>\n",
       "      <th>Idle.Std</th>\n",
       "      <th>Idle.Max</th>\n",
       "      <th>Idle.Min</th>\n",
       "      <th>Label</th>\n",
       "      <th>L7Protocol</th>\n",
       "      <th>ProtocolName</th>\n",
       "    </tr>\n",
       "  </thead>\n",
       "  <tbody>\n",
       "    <tr>\n",
       "      <th>0</th>\n",
       "      <td>3056380</td>\n",
       "      <td>179.1.4.223-10.200.7.194-443-60176-6</td>\n",
       "      <td>10.200.7.194</td>\n",
       "      <td>60176</td>\n",
       "      <td>179.1.4.223</td>\n",
       "      <td>443</td>\n",
       "      <td>6</td>\n",
       "      <td>15/05/201709:57:28</td>\n",
       "      <td>36</td>\n",
       "      <td>1</td>\n",
       "      <td>...</td>\n",
       "      <td>0.0</td>\n",
       "      <td>0.0</td>\n",
       "      <td>0.0</td>\n",
       "      <td>0.0</td>\n",
       "      <td>0.0</td>\n",
       "      <td>0.0</td>\n",
       "      <td>0.0</td>\n",
       "      <td>BENIGN</td>\n",
       "      <td>126</td>\n",
       "      <td>GOOGLE</td>\n",
       "    </tr>\n",
       "    <tr>\n",
       "      <th>1</th>\n",
       "      <td>1333820</td>\n",
       "      <td>192.168.10.8-10.200.7.6-54587-3128-6</td>\n",
       "      <td>192.168.10.8</td>\n",
       "      <td>54587</td>\n",
       "      <td>10.200.7.6</td>\n",
       "      <td>3128</td>\n",
       "      <td>6</td>\n",
       "      <td>27/04/201704:58:13</td>\n",
       "      <td>45155396</td>\n",
       "      <td>14</td>\n",
       "      <td>...</td>\n",
       "      <td>0.0</td>\n",
       "      <td>158289.0</td>\n",
       "      <td>158289.0</td>\n",
       "      <td>44997074.0</td>\n",
       "      <td>0.0</td>\n",
       "      <td>44997074.0</td>\n",
       "      <td>44997074.0</td>\n",
       "      <td>BENIGN</td>\n",
       "      <td>126</td>\n",
       "      <td>GOOGLE</td>\n",
       "    </tr>\n",
       "    <tr>\n",
       "      <th>2</th>\n",
       "      <td>2736896</td>\n",
       "      <td>179.1.4.231-10.200.7.217-80-58232-6</td>\n",
       "      <td>10.200.7.217</td>\n",
       "      <td>58232</td>\n",
       "      <td>179.1.4.231</td>\n",
       "      <td>80</td>\n",
       "      <td>6</td>\n",
       "      <td>11/05/201711:11:44</td>\n",
       "      <td>59513905</td>\n",
       "      <td>9</td>\n",
       "      <td>...</td>\n",
       "      <td>0.0</td>\n",
       "      <td>0.0</td>\n",
       "      <td>0.0</td>\n",
       "      <td>0.0</td>\n",
       "      <td>0.0</td>\n",
       "      <td>0.0</td>\n",
       "      <td>0.0</td>\n",
       "      <td>BENIGN</td>\n",
       "      <td>126</td>\n",
       "      <td>GOOGLE</td>\n",
       "    </tr>\n",
       "    <tr>\n",
       "      <th>3</th>\n",
       "      <td>2324344</td>\n",
       "      <td>10.200.7.217-64.233.190.188-39787-5228-6</td>\n",
       "      <td>10.200.7.217</td>\n",
       "      <td>39787</td>\n",
       "      <td>64.233.190.188</td>\n",
       "      <td>5228</td>\n",
       "      <td>6</td>\n",
       "      <td>11/05/201709:29:04</td>\n",
       "      <td>874682</td>\n",
       "      <td>16</td>\n",
       "      <td>...</td>\n",
       "      <td>0.0</td>\n",
       "      <td>0.0</td>\n",
       "      <td>0.0</td>\n",
       "      <td>0.0</td>\n",
       "      <td>0.0</td>\n",
       "      <td>0.0</td>\n",
       "      <td>0.0</td>\n",
       "      <td>BENIGN</td>\n",
       "      <td>126</td>\n",
       "      <td>GOOGLE</td>\n",
       "    </tr>\n",
       "    <tr>\n",
       "      <th>4</th>\n",
       "      <td>3356613</td>\n",
       "      <td>179.1.4.238-10.200.7.199-80-58407-6</td>\n",
       "      <td>10.200.7.199</td>\n",
       "      <td>58407</td>\n",
       "      <td>179.1.4.238</td>\n",
       "      <td>80</td>\n",
       "      <td>6</td>\n",
       "      <td>15/05/201704:39:45</td>\n",
       "      <td>7532</td>\n",
       "      <td>3</td>\n",
       "      <td>...</td>\n",
       "      <td>0.0</td>\n",
       "      <td>0.0</td>\n",
       "      <td>0.0</td>\n",
       "      <td>0.0</td>\n",
       "      <td>0.0</td>\n",
       "      <td>0.0</td>\n",
       "      <td>0.0</td>\n",
       "      <td>BENIGN</td>\n",
       "      <td>126</td>\n",
       "      <td>GOOGLE</td>\n",
       "    </tr>\n",
       "  </tbody>\n",
       "</table>\n",
       "<p>5 rows × 88 columns</p>\n",
       "</div>"
      ],
      "text/plain": [
       "   Unnamed: 0                                   Flow.ID     Source.IP  \\\n",
       "0     3056380      179.1.4.223-10.200.7.194-443-60176-6  10.200.7.194   \n",
       "1     1333820      192.168.10.8-10.200.7.6-54587-3128-6  192.168.10.8   \n",
       "2     2736896       179.1.4.231-10.200.7.217-80-58232-6  10.200.7.217   \n",
       "3     2324344  10.200.7.217-64.233.190.188-39787-5228-6  10.200.7.217   \n",
       "4     3356613       179.1.4.238-10.200.7.199-80-58407-6  10.200.7.199   \n",
       "\n",
       "   Source.Port  Destination.IP  Destination.Port  Protocol  \\\n",
       "0        60176     179.1.4.223               443         6   \n",
       "1        54587      10.200.7.6              3128         6   \n",
       "2        58232     179.1.4.231                80         6   \n",
       "3        39787  64.233.190.188              5228         6   \n",
       "4        58407     179.1.4.238                80         6   \n",
       "\n",
       "            Timestamp  Flow.Duration  Total.Fwd.Packets  ...  Active.Std  \\\n",
       "0  15/05/201709:57:28             36                  1  ...         0.0   \n",
       "1  27/04/201704:58:13       45155396                 14  ...         0.0   \n",
       "2  11/05/201711:11:44       59513905                  9  ...         0.0   \n",
       "3  11/05/201709:29:04         874682                 16  ...         0.0   \n",
       "4  15/05/201704:39:45           7532                  3  ...         0.0   \n",
       "\n",
       "   Active.Max  Active.Min   Idle.Mean  Idle.Std    Idle.Max    Idle.Min  \\\n",
       "0         0.0         0.0         0.0       0.0         0.0         0.0   \n",
       "1    158289.0    158289.0  44997074.0       0.0  44997074.0  44997074.0   \n",
       "2         0.0         0.0         0.0       0.0         0.0         0.0   \n",
       "3         0.0         0.0         0.0       0.0         0.0         0.0   \n",
       "4         0.0         0.0         0.0       0.0         0.0         0.0   \n",
       "\n",
       "    Label  L7Protocol  ProtocolName  \n",
       "0  BENIGN         126        GOOGLE  \n",
       "1  BENIGN         126        GOOGLE  \n",
       "2  BENIGN         126        GOOGLE  \n",
       "3  BENIGN         126        GOOGLE  \n",
       "4  BENIGN         126        GOOGLE  \n",
       "\n",
       "[5 rows x 88 columns]"
      ]
     },
     "execution_count": 2,
     "metadata": {},
     "output_type": "execute_result"
    }
   ],
   "source": [
    "df = pd.read_csv(\"Unicauca_20000.csv\")\n",
    "df.head()"
   ]
  },
  {
   "cell_type": "code",
   "execution_count": 3,
   "metadata": {},
   "outputs": [
    {
     "data": {
      "text/plain": [
       "(20000, 88)"
      ]
     },
     "execution_count": 3,
     "metadata": {},
     "output_type": "execute_result"
    }
   ],
   "source": [
    "df.shape"
   ]
  },
  {
   "cell_type": "code",
   "execution_count": 4,
   "metadata": {},
   "outputs": [
    {
     "data": {
      "text/plain": [
       "Index(['Unnamed: 0', 'Flow.ID', 'Source.IP', 'Source.Port', 'Destination.IP',\n",
       "       'Destination.Port', 'Protocol', 'Timestamp', 'Flow.Duration',\n",
       "       'Total.Fwd.Packets', 'Total.Backward.Packets',\n",
       "       'Total.Length.of.Fwd.Packets', 'Total.Length.of.Bwd.Packets',\n",
       "       'Fwd.Packet.Length.Max', 'Fwd.Packet.Length.Min',\n",
       "       'Fwd.Packet.Length.Mean', 'Fwd.Packet.Length.Std',\n",
       "       'Bwd.Packet.Length.Max', 'Bwd.Packet.Length.Min',\n",
       "       'Bwd.Packet.Length.Mean', 'Bwd.Packet.Length.Std', 'Flow.Bytes.s',\n",
       "       'Flow.Packets.s', 'Flow.IAT.Mean', 'Flow.IAT.Std', 'Flow.IAT.Max',\n",
       "       'Flow.IAT.Min', 'Fwd.IAT.Total', 'Fwd.IAT.Mean', 'Fwd.IAT.Std',\n",
       "       'Fwd.IAT.Max', 'Fwd.IAT.Min', 'Bwd.IAT.Total', 'Bwd.IAT.Mean',\n",
       "       'Bwd.IAT.Std', 'Bwd.IAT.Max', 'Bwd.IAT.Min', 'Fwd.PSH.Flags',\n",
       "       'Bwd.PSH.Flags', 'Fwd.URG.Flags', 'Bwd.URG.Flags', 'Fwd.Header.Length',\n",
       "       'Bwd.Header.Length', 'Fwd.Packets.s', 'Bwd.Packets.s',\n",
       "       'Min.Packet.Length', 'Max.Packet.Length', 'Packet.Length.Mean',\n",
       "       'Packet.Length.Std', 'Packet.Length.Variance', 'FIN.Flag.Count',\n",
       "       'SYN.Flag.Count', 'RST.Flag.Count', 'PSH.Flag.Count', 'ACK.Flag.Count',\n",
       "       'URG.Flag.Count', 'CWE.Flag.Count', 'ECE.Flag.Count', 'Down.Up.Ratio',\n",
       "       'Average.Packet.Size', 'Avg.Fwd.Segment.Size', 'Avg.Bwd.Segment.Size',\n",
       "       'Fwd.Header.Length.1', 'Fwd.Avg.Bytes.Bulk', 'Fwd.Avg.Packets.Bulk',\n",
       "       'Fwd.Avg.Bulk.Rate', 'Bwd.Avg.Bytes.Bulk', 'Bwd.Avg.Packets.Bulk',\n",
       "       'Bwd.Avg.Bulk.Rate', 'Subflow.Fwd.Packets', 'Subflow.Fwd.Bytes',\n",
       "       'Subflow.Bwd.Packets', 'Subflow.Bwd.Bytes', 'Init_Win_bytes_forward',\n",
       "       'Init_Win_bytes_backward', 'act_data_pkt_fwd', 'min_seg_size_forward',\n",
       "       'Active.Mean', 'Active.Std', 'Active.Max', 'Active.Min', 'Idle.Mean',\n",
       "       'Idle.Std', 'Idle.Max', 'Idle.Min', 'Label', 'L7Protocol',\n",
       "       'ProtocolName'],\n",
       "      dtype='object')"
      ]
     },
     "execution_count": 4,
     "metadata": {},
     "output_type": "execute_result"
    }
   ],
   "source": [
    "df.columns"
   ]
  },
  {
   "cell_type": "code",
   "execution_count": 5,
   "metadata": {},
   "outputs": [],
   "source": [
    "df.dropna(inplace = True) "
   ]
  },
  {
   "cell_type": "code",
   "execution_count": 6,
   "metadata": {},
   "outputs": [
    {
     "name": "stdout",
     "output_type": "stream",
     "text": [
      "10\n"
     ]
    }
   ],
   "source": [
    "df['ProtocolName'].unique()\n",
    "print(df['ProtocolName'].nunique())"
   ]
  },
  {
   "cell_type": "code",
   "execution_count": 7,
   "metadata": {},
   "outputs": [
    {
     "data": {
      "text/plain": [
       "SSL               2000\n",
       "HTTP_CONNECT      2000\n",
       "GOOGLE            2000\n",
       "WINDOWS_UPDATE    2000\n",
       "AMAZON            2000\n",
       "GMAIL             2000\n",
       "HTTP              2000\n",
       "MICROSOFT         2000\n",
       "YOUTUBE           2000\n",
       "HTTP_PROXY        2000\n",
       "Name: ProtocolName, dtype: int64"
      ]
     },
     "execution_count": 7,
     "metadata": {},
     "output_type": "execute_result"
    }
   ],
   "source": [
    "pd.set_option(\"display.max_rows\", None)\n",
    "df['ProtocolName'].value_counts()"
   ]
  },
  {
   "cell_type": "code",
   "execution_count": 8,
   "metadata": {},
   "outputs": [],
   "source": [
    "df_feature = df.copy()\n",
    "df_feature = df_feature.drop(columns =[\"Flow.ID\", \"Timestamp\", \"Label\",\"ProtocolName\" ,\"Source.IP\", \"Source.Port\", \"Destination.IP\", \"Destination.Port\"], axis = 1)\n",
    "# df_target = pd.get_dummies(df['ProtocolName'])\n",
    "df_target = df['ProtocolName']\n"
   ]
  },
  {
   "cell_type": "code",
   "execution_count": 9,
   "metadata": {},
   "outputs": [],
   "source": [
    "from sklearn.preprocessing import MinMaxScaler\n",
    "\n",
    "scaler = MinMaxScaler()\n",
    "X = scaler.fit_transform(df_feature)\n",
    "y = df_target"
   ]
  },
  {
   "cell_type": "code",
   "execution_count": 10,
   "metadata": {},
   "outputs": [
    {
     "data": {
      "text/plain": [
       "PCA(copy=True, iterated_power='auto', n_components=2, random_state=None,\n",
       "    svd_solver='auto', tol=0.0, whiten=False)"
      ]
     },
     "execution_count": 10,
     "metadata": {},
     "output_type": "execute_result"
    }
   ],
   "source": [
    "from sklearn.decomposition import PCA\n",
    "\n",
    "pca = PCA(n_components=2)\n",
    "pca.fit(X)"
   ]
  },
  {
   "cell_type": "code",
   "execution_count": 11,
   "metadata": {},
   "outputs": [],
   "source": [
    "from sklearn.model_selection import train_test_split\n",
    "\n",
    "X_train, X_test, y_train, y_test = train_test_split(X, y, test_size=0.25)"
   ]
  },
  {
   "cell_type": "code",
   "execution_count": 12,
   "metadata": {},
   "outputs": [
    {
     "data": {
      "text/plain": [
       "RandomForestClassifier(bootstrap=True, ccp_alpha=0.0, class_weight=None,\n",
       "                       criterion='gini', max_depth=None, max_features='auto',\n",
       "                       max_leaf_nodes=None, max_samples=None,\n",
       "                       min_impurity_decrease=0.0, min_impurity_split=None,\n",
       "                       min_samples_leaf=1, min_samples_split=2,\n",
       "                       min_weight_fraction_leaf=0.0, n_estimators=100,\n",
       "                       n_jobs=None, oob_score=False, random_state=None,\n",
       "                       verbose=0, warm_start=False)"
      ]
     },
     "execution_count": 12,
     "metadata": {},
     "output_type": "execute_result"
    }
   ],
   "source": [
    "from sklearn.ensemble import RandomForestClassifier\n",
    "\n",
    "rf = RandomForestClassifier(n_estimators=100)\n",
    "rf.fit(X_train,y_train)"
   ]
  },
  {
   "cell_type": "code",
   "execution_count": 13,
   "metadata": {},
   "outputs": [],
   "source": [
    "y_pred = rf.predict(X_test)"
   ]
  },
  {
   "cell_type": "code",
   "execution_count": 14,
   "metadata": {},
   "outputs": [
    {
     "name": "stdout",
     "output_type": "stream",
     "text": [
      "                precision    recall  f1-score   support\n",
      "\n",
      "        AMAZON       0.94      0.93      0.94       518\n",
      "         GMAIL       0.88      0.87      0.88       496\n",
      "        GOOGLE       0.81      0.85      0.83       450\n",
      "          HTTP       0.98      0.95      0.96       485\n",
      "  HTTP_CONNECT       0.85      0.90      0.88       518\n",
      "    HTTP_PROXY       0.87      0.90      0.89       476\n",
      "     MICROSOFT       0.98      0.95      0.97       501\n",
      "           SSL       0.93      0.95      0.94       526\n",
      "WINDOWS_UPDATE       0.94      0.92      0.93       516\n",
      "       YOUTUBE       0.88      0.85      0.86       514\n",
      "\n",
      "      accuracy                           0.91      5000\n",
      "     macro avg       0.91      0.91      0.91      5000\n",
      "  weighted avg       0.91      0.91      0.91      5000\n",
      "\n"
     ]
    }
   ],
   "source": [
    "from sklearn.metrics import classification_report\n",
    "\n",
    "print(classification_report(y_test, y_pred))"
   ]
  },
  {
   "cell_type": "code",
   "execution_count": 37,
   "metadata": {
    "scrolled": true
   },
   "outputs": [],
   "source": [
    "# y_true = y_test.idxmax(axis='columns').reset_index().drop('index', axis=1).rename(columns={'0':'ProtocolName'})"
   ]
  },
  {
   "cell_type": "code",
   "execution_count": 16,
   "metadata": {},
   "outputs": [],
   "source": [
    "# y_pred = pd.DataFrame(pd.DataFrame(rf.predict(X_test), columns = y_test.columns).idxmax(axis='columns'), columns=['ProtocolName'])"
   ]
  },
  {
   "cell_type": "code",
   "execution_count": 17,
   "metadata": {},
   "outputs": [],
   "source": [
    "# from sklearn.metrics import confusion_matrix\n",
    "\n",
    "# conf_mat = pd.DataFrame(confusion_matrix(y_true, y_pred,\n",
    "#                                          labels = df_target.columns),\n",
    "#                         columns = df_target.columns,\n",
    "#                         index = df_target.columns)"
   ]
  },
  {
   "cell_type": "code",
   "execution_count": 18,
   "metadata": {
    "scrolled": false
   },
   "outputs": [],
   "source": [
    "# print(classification_report(y_true, y_pred))"
   ]
  },
  {
   "cell_type": "code",
   "execution_count": 19,
   "metadata": {},
   "outputs": [
    {
     "name": "stderr",
     "output_type": "stream",
     "text": [
      "C:\\anaconda\\lib\\site-packages\\sklearn\\neural_network\\_multilayer_perceptron.py:470: ConvergenceWarning: lbfgs failed to converge (status=1):\n",
      "STOP: TOTAL NO. of ITERATIONS REACHED LIMIT.\n",
      "\n",
      "Increase the number of iterations (max_iter) or scale the data as shown in:\n",
      "    https://scikit-learn.org/stable/modules/preprocessing.html\n",
      "  self.n_iter_ = _check_optimize_result(\"lbfgs\", opt_res, self.max_iter)\n"
     ]
    },
    {
     "data": {
      "text/plain": [
       "MLPClassifier(activation='relu', alpha=1e-05, batch_size='auto', beta_1=0.9,\n",
       "              beta_2=0.999, early_stopping=False, epsilon=1e-08,\n",
       "              hidden_layer_sizes=(5, 2), learning_rate='constant',\n",
       "              learning_rate_init=0.001, max_fun=15000, max_iter=200,\n",
       "              momentum=0.9, n_iter_no_change=10, nesterovs_momentum=True,\n",
       "              power_t=0.5, random_state=1, shuffle=True, solver='lbfgs',\n",
       "              tol=0.0001, validation_fraction=0.1, verbose=False,\n",
       "              warm_start=False)"
      ]
     },
     "execution_count": 19,
     "metadata": {},
     "output_type": "execute_result"
    }
   ],
   "source": [
    "from sklearn.neural_network import MLPClassifier\n",
    "\n",
    "mlp = MLPClassifier(solver='lbfgs', alpha=1e-5, hidden_layer_sizes=(5, 2), random_state=1)\n",
    "\n",
    "mlp.fit(X, y)"
   ]
  },
  {
   "cell_type": "code",
   "execution_count": 20,
   "metadata": {},
   "outputs": [],
   "source": [
    "y_pred_mlp = mlp.predict(X_test)"
   ]
  },
  {
   "cell_type": "code",
   "execution_count": 24,
   "metadata": {},
   "outputs": [
    {
     "name": "stdout",
     "output_type": "stream",
     "text": [
      "                precision    recall  f1-score   support\n",
      "\n",
      "        AMAZON       1.00      1.00      1.00       518\n",
      "         GMAIL       1.00      1.00      1.00       496\n",
      "        GOOGLE       1.00      1.00      1.00       450\n",
      "          HTTP       1.00      1.00      1.00       485\n",
      "  HTTP_CONNECT       1.00      1.00      1.00       518\n",
      "    HTTP_PROXY       1.00      1.00      1.00       476\n",
      "     MICROSOFT       1.00      1.00      1.00       501\n",
      "           SSL       1.00      1.00      1.00       526\n",
      "WINDOWS_UPDATE       1.00      1.00      1.00       516\n",
      "       YOUTUBE       1.00      1.00      1.00       514\n",
      "\n",
      "      accuracy                           1.00      5000\n",
      "     macro avg       1.00      1.00      1.00      5000\n",
      "  weighted avg       1.00      1.00      1.00      5000\n",
      "\n"
     ]
    }
   ],
   "source": [
    "print(classification_report(y_test, y_pred_mlp))"
   ]
  },
  {
   "cell_type": "code",
   "execution_count": 29,
   "metadata": {},
   "outputs": [
    {
     "data": {
      "text/plain": [
       "SVC(C=1.0, break_ties=False, cache_size=200, class_weight=None, coef0=0.0,\n",
       "    decision_function_shape='ovr', degree=3, gamma='scale', kernel='rbf',\n",
       "    max_iter=-1, probability=False, random_state=None, shrinking=True,\n",
       "    tol=0.001, verbose=False)"
      ]
     },
     "execution_count": 29,
     "metadata": {},
     "output_type": "execute_result"
    }
   ],
   "source": [
    "from sklearn.svm import SVC\n",
    "\n",
    "svm = SVC()\n",
    "svm.fit(X_train,y_train)"
   ]
  },
  {
   "cell_type": "code",
   "execution_count": 30,
   "metadata": {},
   "outputs": [],
   "source": [
    "y_pred_svm = svm.predict(X_test)"
   ]
  },
  {
   "cell_type": "code",
   "execution_count": 31,
   "metadata": {},
   "outputs": [
    {
     "name": "stdout",
     "output_type": "stream",
     "text": [
      "                precision    recall  f1-score   support\n",
      "\n",
      "        AMAZON       1.00      1.00      1.00       518\n",
      "         GMAIL       0.51      0.29      0.37       496\n",
      "        GOOGLE       0.38      0.46      0.42       450\n",
      "          HTTP       1.00      1.00      1.00       485\n",
      "  HTTP_CONNECT       0.45      0.69      0.54       518\n",
      "    HTTP_PROXY       0.48      0.54      0.51       476\n",
      "     MICROSOFT       1.00      1.00      1.00       501\n",
      "           SSL       1.00      1.00      1.00       526\n",
      "WINDOWS_UPDATE       0.99      0.98      0.99       516\n",
      "       YOUTUBE       0.56      0.32      0.41       514\n",
      "\n",
      "      accuracy                           0.73      5000\n",
      "     macro avg       0.74      0.73      0.72      5000\n",
      "  weighted avg       0.74      0.73      0.73      5000\n",
      "\n"
     ]
    }
   ],
   "source": [
    "print(classification_report(y_test, y_pred_svm))"
   ]
  },
  {
   "cell_type": "code",
   "execution_count": 25,
   "metadata": {},
   "outputs": [
    {
     "data": {
      "text/plain": [
       "GradientBoostingClassifier(ccp_alpha=0.0, criterion='friedman_mse', init=None,\n",
       "                           learning_rate=1.0, loss='deviance', max_depth=1,\n",
       "                           max_features=None, max_leaf_nodes=None,\n",
       "                           min_impurity_decrease=0.0, min_impurity_split=None,\n",
       "                           min_samples_leaf=1, min_samples_split=2,\n",
       "                           min_weight_fraction_leaf=0.0, n_estimators=100,\n",
       "                           n_iter_no_change=None, presort='deprecated',\n",
       "                           random_state=0, subsample=1.0, tol=0.0001,\n",
       "                           validation_fraction=0.1, verbose=0,\n",
       "                           warm_start=False)"
      ]
     },
     "execution_count": 25,
     "metadata": {},
     "output_type": "execute_result"
    }
   ],
   "source": [
    "from sklearn.ensemble import GradientBoostingClassifier\n",
    "\n",
    "sgb = GradientBoostingClassifier(n_estimators=100,\n",
    "                                 learning_rate=1.0,\n",
    "                                 max_depth=1,\n",
    "                                 random_state=0)\n",
    "sgb.fit(X_train, y_train)"
   ]
  },
  {
   "cell_type": "code",
   "execution_count": 26,
   "metadata": {},
   "outputs": [],
   "source": [
    "y_pred_sgb = sgb.predict(X_test)"
   ]
  },
  {
   "cell_type": "code",
   "execution_count": 27,
   "metadata": {
    "scrolled": true
   },
   "outputs": [
    {
     "name": "stdout",
     "output_type": "stream",
     "text": [
      "                precision    recall  f1-score   support\n",
      "\n",
      "        AMAZON       1.00      1.00      1.00       518\n",
      "         GMAIL       1.00      1.00      1.00       496\n",
      "        GOOGLE       1.00      1.00      1.00       450\n",
      "          HTTP       1.00      1.00      1.00       485\n",
      "  HTTP_CONNECT       1.00      1.00      1.00       518\n",
      "    HTTP_PROXY       1.00      1.00      1.00       476\n",
      "     MICROSOFT       1.00      1.00      1.00       501\n",
      "           SSL       1.00      1.00      1.00       526\n",
      "WINDOWS_UPDATE       1.00      1.00      1.00       516\n",
      "       YOUTUBE       1.00      1.00      1.00       514\n",
      "\n",
      "      accuracy                           1.00      5000\n",
      "     macro avg       1.00      1.00      1.00      5000\n",
      "  weighted avg       1.00      1.00      1.00      5000\n",
      "\n"
     ]
    }
   ],
   "source": [
    "print(classification_report(y_test, y_pred_sgb))"
   ]
  },
  {
   "cell_type": "code",
   "execution_count": 34,
   "metadata": {},
   "outputs": [
    {
     "name": "stdout",
     "output_type": "stream",
     "text": [
      "[13:17:06] WARNING: C:/Users/Administrator/workspace/xgboost-win64_release_1.5.1/src/learner.cc:1115: Starting in XGBoost 1.3.0, the default evaluation metric used with the objective 'multi:softprob' was changed from 'merror' to 'mlogloss'. Explicitly set eval_metric if you'd like to restore the old behavior.\n"
     ]
    },
    {
     "data": {
      "text/plain": [
       "XGBClassifier(base_score=0.5, booster='gbtree', colsample_bylevel=1,\n",
       "              colsample_bynode=1, colsample_bytree=1, enable_categorical=False,\n",
       "              gamma=0, gpu_id=-1, importance_type=None,\n",
       "              interaction_constraints='', learning_rate=0.300000012,\n",
       "              max_delta_step=0, max_depth=6, min_child_weight=1, missing=nan,\n",
       "              monotone_constraints='()', n_estimators=100, n_jobs=4,\n",
       "              num_parallel_tree=1, objective='multi:softprob', predictor='auto',\n",
       "              random_state=0, reg_alpha=0, reg_lambda=1, scale_pos_weight=None,\n",
       "              subsample=1, tree_method='exact', use_label_encoder=True,\n",
       "              validate_parameters=1, verbosity=None)"
      ]
     },
     "execution_count": 34,
     "metadata": {},
     "output_type": "execute_result"
    }
   ],
   "source": [
    "from xgboost import XGBClassifier\n",
    "\n",
    "xgb = XGBClassifier()\n",
    "\n",
    "xgb.fit(X, y)"
   ]
  },
  {
   "cell_type": "code",
   "execution_count": 35,
   "metadata": {},
   "outputs": [],
   "source": [
    "y_pred_xgb = xgb.predict(X_test)"
   ]
  },
  {
   "cell_type": "code",
   "execution_count": 36,
   "metadata": {},
   "outputs": [
    {
     "name": "stdout",
     "output_type": "stream",
     "text": [
      "                precision    recall  f1-score   support\n",
      "\n",
      "        AMAZON       1.00      1.00      1.00       518\n",
      "         GMAIL       1.00      1.00      1.00       496\n",
      "        GOOGLE       1.00      1.00      1.00       450\n",
      "          HTTP       1.00      1.00      1.00       485\n",
      "  HTTP_CONNECT       1.00      1.00      1.00       518\n",
      "    HTTP_PROXY       1.00      1.00      1.00       476\n",
      "     MICROSOFT       1.00      1.00      1.00       501\n",
      "           SSL       1.00      1.00      1.00       526\n",
      "WINDOWS_UPDATE       1.00      1.00      1.00       516\n",
      "       YOUTUBE       1.00      1.00      1.00       514\n",
      "\n",
      "      accuracy                           1.00      5000\n",
      "     macro avg       1.00      1.00      1.00      5000\n",
      "  weighted avg       1.00      1.00      1.00      5000\n",
      "\n"
     ]
    }
   ],
   "source": [
    "print(classification_report(y_test, y_pred_xgb))"
   ]
  }
 ],
 "metadata": {
  "kernelspec": {
   "display_name": "Python 3",
   "language": "python",
   "name": "python3"
  },
  "language_info": {
   "codemirror_mode": {
    "name": "ipython",
    "version": 3
   },
   "file_extension": ".py",
   "mimetype": "text/x-python",
   "name": "python",
   "nbconvert_exporter": "python",
   "pygments_lexer": "ipython3",
   "version": "3.7.3"
  }
 },
 "nbformat": 4,
 "nbformat_minor": 2
}
